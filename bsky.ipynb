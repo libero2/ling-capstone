{
 "cells": [
  {
   "cell_type": "markdown",
   "source": [
    "# Rudimentary Analysis of Bluesky Data"
   ],
   "metadata": {
    "collapsed": false
   },
   "id": "7f95ccb2f7d55608"
  },
  {
   "cell_type": "code",
   "execution_count": null,
   "outputs": [],
   "source": [
    "# Import necessary libraries\n",
    "import numpy as np, pandas as pd"
   ],
   "metadata": {
    "collapsed": false,
    "is_executing": true
   },
   "id": "initial_id"
  },
  {
   "cell_type": "code",
   "execution_count": 98,
   "outputs": [],
   "source": [
    "jp = pd.read_csv('csv_cleaned/jp_sqlite_Posts_202504092357.csv')\n",
    "kr = pd.read_csv('csv_cleaned/kr_sqlite_Posts_202504101218.csv')\n",
    "sp = pd.read_csv('csv_cleaned/sp_sqlite_Posts_202504101221.csv')"
   ],
   "metadata": {
    "collapsed": false,
    "ExecuteTime": {
     "end_time": "2025-04-11T18:12:52.095457Z",
     "start_time": "2025-04-11T18:12:52.070066Z"
    }
   },
   "id": "bfcb435efb7cf877"
  },
  {
   "cell_type": "code",
   "execution_count": 99,
   "outputs": [],
   "source": [
    "jp['language'] = 'jp'\n",
    "kr['language'] = 'kr'\n",
    "sp['language'] = 'sp'"
   ],
   "metadata": {
    "collapsed": false,
    "ExecuteTime": {
     "end_time": "2025-04-11T18:12:52.100066Z",
     "start_time": "2025-04-11T18:12:52.097964Z"
    }
   },
   "id": "7ab212ab4bea2917"
  },
  {
   "cell_type": "code",
   "execution_count": 100,
   "outputs": [],
   "source": [
    "import unicodedata # necessary library\n",
    "\n",
    "def count_substring(text, substring, normalization='NFC'):\n",
    "    # Normalize both the text and substring to handle Unicode variations\n",
    "    normalized_text = unicodedata.normalize(normalization, text)\n",
    "    normalized_substring = unicodedata.normalize(normalization, substring)\n",
    "    \n",
    "    # Count occurrences of the normalized substring\n",
    "    return normalized_text.count(normalized_substring)\n",
    "\n",
    "def dem_count(x, dem_use, lang):\n",
    "    demonstratives = {'jp' : {'proximal' : 'これ', 'medial': 'それ', 'distal': 'あれ'},\n",
    "                      'kr' : {'proximal' : '이', 'medial': '그', 'distal': '저'},\n",
    "                      'sp' : {'proximal' : ['esto', 'esta'], 'medial': ['ese', 'esos', 'esa'],\n",
    "                              'distal': ['aquel', 'aquella', 'aquellos']}}\n",
    "    if lang == 'sp': \n",
    "        count = 0\n",
    "        for s in demonstratives[lang][dem_use]:\n",
    "            count += sum(1 for i in range(len(x) - len(s) + 1) if x[i:i + len(s)] == s)\n",
    "        return count\n",
    "    else: \n",
    "        count = count_substring(x, demonstratives[lang][dem_use])\n",
    "        return count"
   ],
   "metadata": {
    "collapsed": false,
    "ExecuteTime": {
     "end_time": "2025-04-11T18:12:52.204864Z",
     "start_time": "2025-04-11T18:12:52.201921Z"
    }
   },
   "id": "b1dbb87d2bc0c71b"
  },
  {
   "cell_type": "code",
   "execution_count": 101,
   "outputs": [],
   "source": [
    "dem_uses = ['proximal', 'medial', 'distal']\n",
    "langs = ['jp', 'kr', 'sp']\n",
    "\n",
    "for q in dem_uses:\n",
    "    jp[q] = 0\n",
    "    sp[q] = 0\n",
    "    kr[q] = 0\n",
    "\n",
    "for q in dem_uses:\n",
    "    jp[q] = jp['text'].apply(dem_count, args=(q, 'jp'))\n",
    "    sp[q] = sp['text'].apply(dem_count, args=(q, 'sp'))\n",
    "    kr[q] = kr['text'].apply(dem_count, args=(q, 'kr'))"
   ],
   "metadata": {
    "collapsed": false,
    "ExecuteTime": {
     "end_time": "2025-04-11T18:12:52.205071Z",
     "start_time": "2025-04-11T18:12:52.202150Z"
    }
   },
   "id": "85426fa9d33485c4"
  },
  {
   "cell_type": "code",
   "execution_count": 102,
   "outputs": [
    {
     "data": {
      "text/plain": "                                                   url  \\\n0    https://bsky.app/profile/kohara.bsky.social/po...   \n1    https://bsky.app/profile/akatsuking926.bsky.so...   \n2    https://bsky.app/profile/akatsuking926.bsky.so...   \n3    https://bsky.app/profile/akatsuking926.bsky.so...   \n4    https://bsky.app/profile/akatsuking926.bsky.so...   \n..                                                 ...   \n217  https://bsky.app/profile/xandasbolas8.bsky.soc...   \n218  https://bsky.app/profile/xandasbolas8.bsky.soc...   \n219  https://bsky.app/profile/ehsiug.bsky.social/po...   \n220  https://bsky.app/profile/xandasbolas8.bsky.soc...   \n221  https://bsky.app/profile/xandasbolas8.bsky.soc...   \n\n                                                  text  Bracket language  \\\n0    ご依頼で色紙を描かせていただきました！\\n\\n満1歳の記念ということで…\\n初節句の時の衣装...        0       jp   \n1    青空でお見かけしたクラフテリアさん( @crafterior.bsky.social )\\n...        1       jp   \n2    正直、じーぴーてーに二次創作の内容のネタ出しさせて原稿描きまーす!ってしてるのとか私は快く思...        1       jp   \n3    (´・ω・｀)そうですよね...なんというか自分が使うものがどういうものなのか知ってから使っ...        1       jp   \n4    DLSSを搭載するから規制派さんはSwitch2できませんねーって言ってるらしくて( ՞ਊ ...        1       jp   \n..                                                 ...      ...      ...   \n217                     Sí, sí, ese video es buenísimo        2       sp   \n218  Está Lola Herrera en el 24H y lo de esta mujer...        2       sp   \n219  Un día los de la gorrita del MAGA descubrirán ...        0       sp   \n220  Trump va a conseguir unir a China, Corea del S...        2       sp   \n221  A un tipo currito del automóvil, con su ropa d...        2       sp   \n\n     proximal  medial  distal  \n0           1       0       0  \n1           1       0       0  \n2           1       0       0  \n3           1       0       0  \n4           0       0       1  \n..        ...     ...     ...  \n217         0       1       0  \n218         1       0       0  \n219         0       1       0  \n220         0       0       0  \n221         0       1       0  \n\n[1607 rows x 7 columns]",
      "text/html": "<div>\n<style scoped>\n    .dataframe tbody tr th:only-of-type {\n        vertical-align: middle;\n    }\n\n    .dataframe tbody tr th {\n        vertical-align: top;\n    }\n\n    .dataframe thead th {\n        text-align: right;\n    }\n</style>\n<table border=\"1\" class=\"dataframe\">\n  <thead>\n    <tr style=\"text-align: right;\">\n      <th></th>\n      <th>url</th>\n      <th>text</th>\n      <th>Bracket</th>\n      <th>language</th>\n      <th>proximal</th>\n      <th>medial</th>\n      <th>distal</th>\n    </tr>\n  </thead>\n  <tbody>\n    <tr>\n      <th>0</th>\n      <td>https://bsky.app/profile/kohara.bsky.social/po...</td>\n      <td>ご依頼で色紙を描かせていただきました！\\n\\n満1歳の記念ということで…\\n初節句の時の衣装...</td>\n      <td>0</td>\n      <td>jp</td>\n      <td>1</td>\n      <td>0</td>\n      <td>0</td>\n    </tr>\n    <tr>\n      <th>1</th>\n      <td>https://bsky.app/profile/akatsuking926.bsky.so...</td>\n      <td>青空でお見かけしたクラフテリアさん( @crafterior.bsky.social )\\n...</td>\n      <td>1</td>\n      <td>jp</td>\n      <td>1</td>\n      <td>0</td>\n      <td>0</td>\n    </tr>\n    <tr>\n      <th>2</th>\n      <td>https://bsky.app/profile/akatsuking926.bsky.so...</td>\n      <td>正直、じーぴーてーに二次創作の内容のネタ出しさせて原稿描きまーす!ってしてるのとか私は快く思...</td>\n      <td>1</td>\n      <td>jp</td>\n      <td>1</td>\n      <td>0</td>\n      <td>0</td>\n    </tr>\n    <tr>\n      <th>3</th>\n      <td>https://bsky.app/profile/akatsuking926.bsky.so...</td>\n      <td>(´・ω・｀)そうですよね...なんというか自分が使うものがどういうものなのか知ってから使っ...</td>\n      <td>1</td>\n      <td>jp</td>\n      <td>1</td>\n      <td>0</td>\n      <td>0</td>\n    </tr>\n    <tr>\n      <th>4</th>\n      <td>https://bsky.app/profile/akatsuking926.bsky.so...</td>\n      <td>DLSSを搭載するから規制派さんはSwitch2できませんねーって言ってるらしくて( ՞ਊ ...</td>\n      <td>1</td>\n      <td>jp</td>\n      <td>0</td>\n      <td>0</td>\n      <td>1</td>\n    </tr>\n    <tr>\n      <th>...</th>\n      <td>...</td>\n      <td>...</td>\n      <td>...</td>\n      <td>...</td>\n      <td>...</td>\n      <td>...</td>\n      <td>...</td>\n    </tr>\n    <tr>\n      <th>217</th>\n      <td>https://bsky.app/profile/xandasbolas8.bsky.soc...</td>\n      <td>Sí, sí, ese video es buenísimo</td>\n      <td>2</td>\n      <td>sp</td>\n      <td>0</td>\n      <td>1</td>\n      <td>0</td>\n    </tr>\n    <tr>\n      <th>218</th>\n      <td>https://bsky.app/profile/xandasbolas8.bsky.soc...</td>\n      <td>Está Lola Herrera en el 24H y lo de esta mujer...</td>\n      <td>2</td>\n      <td>sp</td>\n      <td>1</td>\n      <td>0</td>\n      <td>0</td>\n    </tr>\n    <tr>\n      <th>219</th>\n      <td>https://bsky.app/profile/ehsiug.bsky.social/po...</td>\n      <td>Un día los de la gorrita del MAGA descubrirán ...</td>\n      <td>0</td>\n      <td>sp</td>\n      <td>0</td>\n      <td>1</td>\n      <td>0</td>\n    </tr>\n    <tr>\n      <th>220</th>\n      <td>https://bsky.app/profile/xandasbolas8.bsky.soc...</td>\n      <td>Trump va a conseguir unir a China, Corea del S...</td>\n      <td>2</td>\n      <td>sp</td>\n      <td>0</td>\n      <td>0</td>\n      <td>0</td>\n    </tr>\n    <tr>\n      <th>221</th>\n      <td>https://bsky.app/profile/xandasbolas8.bsky.soc...</td>\n      <td>A un tipo currito del automóvil, con su ropa d...</td>\n      <td>2</td>\n      <td>sp</td>\n      <td>0</td>\n      <td>1</td>\n      <td>0</td>\n    </tr>\n  </tbody>\n</table>\n<p>1607 rows × 7 columns</p>\n</div>"
     },
     "execution_count": 102,
     "metadata": {},
     "output_type": "execute_result"
    }
   ],
   "source": [
    "df = pd.concat(objs=[jp, kr, sp])\n",
    "df"
   ],
   "metadata": {
    "collapsed": false,
    "ExecuteTime": {
     "end_time": "2025-04-11T18:12:52.205464Z",
     "start_time": "2025-04-11T18:12:52.202333Z"
    }
   },
   "id": "3b8204d39d06692d"
  },
  {
   "cell_type": "code",
   "execution_count": 103,
   "outputs": [],
   "source": [
    "# import libraries for charting \n",
    "import matplotlib.pyplot as plt "
   ],
   "metadata": {
    "collapsed": false,
    "ExecuteTime": {
     "end_time": "2025-04-11T18:12:52.206122Z",
     "start_time": "2025-04-11T18:12:52.203007Z"
    }
   },
   "id": "feabb2b1f7116dd6"
  },
  {
   "cell_type": "code",
   "execution_count": 104,
   "outputs": [
    {
     "data": {
      "text/plain": "<Figure size 640x480 with 3 Axes>",
      "image/png": "[encoded data removed]"
     },
     "metadata": {},
     "output_type": "display_data"
    }
   ],
   "source": [
    "fig, axs = plt.subplots(1, 3, tight_layout=True)\n",
    "\n",
    "data = {'jp': {'prox': df['proximal'].loc[df['language'] == 'jp'].sum(),\n",
    "               'med' : df['medial'].loc[df['language']   == 'jp'].sum(),\n",
    "               'dist': df['distal'].loc[df['language']   == 'jp'].sum()},\n",
    "        'sp': {'prox': df['proximal'].loc[df['language'] == 'sp'].sum(),\n",
    "               'med':  df['medial'].loc[df['language']   == 'sp'].sum(),\n",
    "               'dist': df['distal'].loc[df['language']   == 'sp'].sum()},\n",
    "        'kr': {'prox': df['proximal'].loc[df['language'] == 'kr'].sum(),\n",
    "               'med':  df['medial'].loc[df['language']   == 'kr'].sum(),\n",
    "               'dist': df['distal'].loc[df['language']   == 'kr'].sum()}}\n",
    "\n",
    "names_jp = list(data['jp'].keys())\n",
    "names_kr = list(data['kr'].keys())\n",
    "names_sp = list(data['sp'].keys())\n",
    "\n",
    "values_jp = list(data['jp'].values())\n",
    "values_kr = list(data['kr'].values())\n",
    "values_sp = list(data['sp'].values())\n",
    "\n",
    "axs[0].bar(names_jp, values_jp)\n",
    "axs[1].bar(names_kr, values_kr)\n",
    "axs[2].bar(names_sp, values_sp)\n",
    "\n",
    "axs[0].set_title('Japanese')\n",
    "axs[1].set_title('Korean')\n",
    "axs[2].set_title('Spanish')\n",
    "\n",
    "fig.suptitle('Demonstrative use by language and usage')\n",
    "plt.show()"
   ],
   "metadata": {
    "collapsed": false,
    "ExecuteTime": {
     "end_time": "2025-04-11T18:12:52.361395Z",
     "start_time": "2025-04-11T18:12:52.230171Z"
    }
   },
   "id": "9cb18aa731b345fd"
  },
  {
   "cell_type": "code",
   "execution_count": 105,
   "outputs": [],
   "source": [
    "# Export our data to a CSV \n",
    "df.to_csv('out.csv', index=False)"
   ],
   "metadata": {
    "collapsed": false,
    "ExecuteTime": {
     "end_time": "2025-04-11T18:12:52.370946Z",
     "start_time": "2025-04-11T18:12:52.359158Z"
    }
   },
   "id": "7d5e2d05c8294789"
  },
  {
   "cell_type": "markdown",
   "source": [
    "# Summary \n",
    "All 3 languages showed diminished use of the distal demonstrative, with Japanese using the distal the most, comparatively. \n",
    "Spanish, as predicted, used the distal the least out of our data. \n",
    "\n",
    "### Possible issues \n",
    "Data should be more normalized, we could get more reliable results by randomly sampling the raw data in order to have the same amount of raw data per language. \n",
    "\n",
    "Additionally, getting accurate demonstrative counts for Korean could be improved. Currently, my process for counting demonstratives is very rudimentary and relies on substrings. It may be tricky to determine if the characters should be counted or are simply a substring of a different word. This is less of an issue in Spanish and Japanese as the substrings we're searching for are much less likely to compose non-demonstrative forms."
   ],
   "metadata": {
    "collapsed": false
   },
   "id": "c9dd9e3e7c6bc0b6"
  }
 ],
 "metadata": {
  "kernelspec": {
   "display_name": "Python 3",
   "language": "python",
   "name": "python3"
  },
  "language_info": {
   "codemirror_mode": {
    "name": "ipython",
    "version": 2
   },
   "file_extension": ".py",
   "mimetype": "text/x-python",
   "name": "python",
   "nbconvert_exporter": "python",
   "pygments_lexer": "ipython2",
   "version": "2.7.6"
  }
 },
 "nbformat": 4,
 "nbformat_minor": 5
}
