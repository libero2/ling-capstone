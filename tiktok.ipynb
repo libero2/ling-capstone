{
 "cells": [
  {
   "cell_type": "code",
   "execution_count": 1,
   "id": "initial_id",
   "metadata": {
    "collapsed": true,
    "ExecuteTime": {
     "end_time": "2025-04-24T19:32:12.665519Z",
     "start_time": "2025-04-24T19:32:11.877317Z"
    }
   },
   "outputs": [],
   "source": [
    "# Import necessary libraries \n",
    "import pandas as pd, numpy as np, unicodedata, matplotlib.pyplot as plt, matplotlib.font_manager"
   ]
  },
  {
   "cell_type": "code",
   "execution_count": 2,
   "id": "ba80cf1f003d35fb",
   "metadata": {
    "collapsed": false,
    "ExecuteTime": {
     "end_time": "2025-04-24T19:32:12.703878Z",
     "start_time": "2025-04-24T19:32:12.665988Z"
    }
   },
   "outputs": [],
   "source": [
    "# Read CSV\n",
    "jp = pd.read_csv('csv_cleaned/tiktok_db_jp.csv')\n",
    "kr = pd.read_csv('csv_cleaned/tiktok_db_kr.csv')\n",
    "sp = pd.read_csv('csv_cleaned/tiktok_db_sp.csv')\n",
    "\n",
    "# Drop N/A rows \n",
    "jp = jp.dropna()\n",
    "kr = kr.dropna()\n",
    "sp = sp.dropna()\n",
    "\n",
    "# Drop id row\n",
    "jp = jp.drop(columns=['id'])\n",
    "kr = kr.drop(columns=['id'])\n",
    "sp = sp.drop(columns=['id'])"
   ]
  },
  {
   "cell_type": "code",
   "execution_count": 3,
   "id": "ceb245d8c1d7834b",
   "metadata": {
    "collapsed": false,
    "ExecuteTime": {
     "end_time": "2025-04-24T19:32:12.704139Z",
     "start_time": "2025-04-24T19:32:12.695790Z"
    }
   },
   "outputs": [],
   "source": [
    "def count_substring(text, substring, normalization='NFC'):\n",
    "    # Normalize both the text and substring to handle Unicode variations\n",
    "    normalized_text = unicodedata.normalize(normalization, text)\n",
    "    normalized_substring = unicodedata.normalize(normalization, substring)\n",
    "    \n",
    "    # Count occurrences of the normalized substring\n",
    "    return normalized_text.count(normalized_substring)\n",
    "\n",
    "def dem_count(x, dem_use, lang):\n",
    "    demonstratives = {'jp' : {'proximal' : 'これ', 'medial': 'それ', 'distal': 'あれ'},\n",
    "                      'kr' : {'proximal' : '이', 'medial': '그', 'distal': '저'},\n",
    "                      'sp' : {'proximal' : [' esto ', ' esta ', ' estos ', ' estas '], \n",
    "                              'medial': [' eso ', ' esos ', ' esa ', ' ese ', ' esas '],\n",
    "                              'distal': [' aquel ', 'aquella', ' aquellos ', ' aquellas ']}}\n",
    "    if lang == 'sp': \n",
    "        count = 0\n",
    "        for s in demonstratives[lang][dem_use]:\n",
    "            count += sum(1 for i in range(len(x) - len(s) + 1) if x[i:i + len(s)] == s)\n",
    "        return count\n",
    "    else: \n",
    "        count = count_substring(x, demonstratives[lang][dem_use])\n",
    "        return count"
   ]
  },
  {
   "cell_type": "code",
   "execution_count": 4,
   "id": "4a7adb60c64272d7",
   "metadata": {
    "collapsed": false,
    "ExecuteTime": {
     "end_time": "2025-04-24T19:32:12.855412Z",
     "start_time": "2025-04-24T19:32:12.736374Z"
    }
   },
   "outputs": [],
   "source": [
    "dem_uses = ['proximal', 'medial', 'distal'] \n",
    "\n",
    "for q in dem_uses: \n",
    "    jp[q] = jp['post'].apply(dem_count, args=(q, 'jp'))\n",
    "    kr[q] = kr['post'].apply(dem_count, args=(q, 'kr'))\n",
    "    sp[q] = sp['post'].apply(dem_count, args=(q, 'sp'))"
   ]
  },
  {
   "cell_type": "code",
   "execution_count": 5,
   "id": "217bbe7ec8bdf139",
   "metadata": {
    "collapsed": false,
    "ExecuteTime": {
     "end_time": "2025-04-24T19:32:12.867552Z",
     "start_time": "2025-04-24T19:32:12.857198Z"
    }
   },
   "outputs": [
    {
     "data": {
      "text/plain": "                                                   post lang  age_group  \\\n0                                      なんだこれ！！ワクワクするな！！   jp          2   \n1        すごい！これまでに色んな自動車博物館的なところへ行きましたが、ここのラインナップは凄すぎる😲   jp          2   \n2                       ここの車エンジンも乗ってるの？それとも外見だけのレプリカ的な？   jp          2   \n3                                               これは夢やなー   jp          2   \n4                                               これは夢やなー   jp          2   \n...                                                 ...  ...        ...   \n2149   por eso no tengo más....x si las moscas...JAJAJA   sp          2   \n2150  Si soy yo me echo a llorar 🤣🤣🤣🤣 eso si menuda ...   sp          2   \n2151  la pobre biscando buscando esta haciendo un eq...   sp          2   \n2152  d esos 5 preciosos niños t llegarán las niñas ...   sp          2   \n2153  Ahora cuando tenga el tercero k busque el cuar...   sp          2   \n\n      proximal  medial  distal  \n0            1       0       0  \n1            1       0       0  \n2            0       1       0  \n3            1       0       0  \n4            1       0       0  \n...        ...     ...     ...  \n2149         0       1       0  \n2150         0       1       0  \n2151         1       0       0  \n2152         0       1       0  \n2153         0       1       0  \n\n[7540 rows x 6 columns]",
      "text/html": "<div>\n<style scoped>\n    .dataframe tbody tr th:only-of-type {\n        vertical-align: middle;\n    }\n\n    .dataframe tbody tr th {\n        vertical-align: top;\n    }\n\n    .dataframe thead th {\n        text-align: right;\n    }\n</style>\n<table border=\"1\" class=\"dataframe\">\n  <thead>\n    <tr style=\"text-align: right;\">\n      <th></th>\n      <th>post</th>\n      <th>lang</th>\n      <th>age_group</th>\n      <th>proximal</th>\n      <th>medial</th>\n      <th>distal</th>\n    </tr>\n  </thead>\n  <tbody>\n    <tr>\n      <th>0</th>\n      <td>なんだこれ！！ワクワクするな！！</td>\n      <td>jp</td>\n      <td>2</td>\n      <td>1</td>\n      <td>0</td>\n      <td>0</td>\n    </tr>\n    <tr>\n      <th>1</th>\n      <td>すごい！これまでに色んな自動車博物館的なところへ行きましたが、ここのラインナップは凄すぎる😲</td>\n      <td>jp</td>\n      <td>2</td>\n      <td>1</td>\n      <td>0</td>\n      <td>0</td>\n    </tr>\n    <tr>\n      <th>2</th>\n      <td>ここの車エンジンも乗ってるの？それとも外見だけのレプリカ的な？</td>\n      <td>jp</td>\n      <td>2</td>\n      <td>0</td>\n      <td>1</td>\n      <td>0</td>\n    </tr>\n    <tr>\n      <th>3</th>\n      <td>これは夢やなー</td>\n      <td>jp</td>\n      <td>2</td>\n      <td>1</td>\n      <td>0</td>\n      <td>0</td>\n    </tr>\n    <tr>\n      <th>4</th>\n      <td>これは夢やなー</td>\n      <td>jp</td>\n      <td>2</td>\n      <td>1</td>\n      <td>0</td>\n      <td>0</td>\n    </tr>\n    <tr>\n      <th>...</th>\n      <td>...</td>\n      <td>...</td>\n      <td>...</td>\n      <td>...</td>\n      <td>...</td>\n      <td>...</td>\n    </tr>\n    <tr>\n      <th>2149</th>\n      <td>por eso no tengo más....x si las moscas...JAJAJA</td>\n      <td>sp</td>\n      <td>2</td>\n      <td>0</td>\n      <td>1</td>\n      <td>0</td>\n    </tr>\n    <tr>\n      <th>2150</th>\n      <td>Si soy yo me echo a llorar 🤣🤣🤣🤣 eso si menuda ...</td>\n      <td>sp</td>\n      <td>2</td>\n      <td>0</td>\n      <td>1</td>\n      <td>0</td>\n    </tr>\n    <tr>\n      <th>2151</th>\n      <td>la pobre biscando buscando esta haciendo un eq...</td>\n      <td>sp</td>\n      <td>2</td>\n      <td>1</td>\n      <td>0</td>\n      <td>0</td>\n    </tr>\n    <tr>\n      <th>2152</th>\n      <td>d esos 5 preciosos niños t llegarán las niñas ...</td>\n      <td>sp</td>\n      <td>2</td>\n      <td>0</td>\n      <td>1</td>\n      <td>0</td>\n    </tr>\n    <tr>\n      <th>2153</th>\n      <td>Ahora cuando tenga el tercero k busque el cuar...</td>\n      <td>sp</td>\n      <td>2</td>\n      <td>0</td>\n      <td>1</td>\n      <td>0</td>\n    </tr>\n  </tbody>\n</table>\n<p>7540 rows × 6 columns</p>\n</div>"
     },
     "execution_count": 5,
     "metadata": {},
     "output_type": "execute_result"
    }
   ],
   "source": [
    "df = pd.concat(objs=[jp, kr, sp])\n",
    "df"
   ]
  },
  {
   "cell_type": "code",
   "execution_count": 6,
   "id": "56310df2072ef8c1",
   "metadata": {
    "collapsed": false,
    "ExecuteTime": {
     "end_time": "2025-04-24T19:32:12.883893Z",
     "start_time": "2025-04-24T19:32:12.865657Z"
    }
   },
   "outputs": [],
   "source": [
    "from matplotlib import font_manager\n",
    "\n",
    "font_dirs = ['venv/Fonts/']\n",
    "font_files = font_manager.findSystemFonts(fontpaths=font_dirs)\n",
    "\n",
    "for font_file in font_files: \n",
    "    font_manager.fontManager.addfont(font_file)\n",
    "\n",
    "matplotlib.rcParams[\"font.family\"] = 'sans-serif'\n",
    "matplotlib.rcParams[\"font.sans-serif\"] = \"DejaVu Sans\""
   ]
  },
  {
   "cell_type": "code",
   "execution_count": 7,
   "id": "68ec9cfc19154e38",
   "metadata": {
    "collapsed": false,
    "ExecuteTime": {
     "end_time": "2025-04-24T19:32:13.238908Z",
     "start_time": "2025-04-24T19:32:12.883167Z"
    }
   },
   "outputs": [
    {
     "data": {
      "text/plain": "<Figure size 640x480 with 0 Axes>"
     },
     "metadata": {},
     "output_type": "display_data"
    },
    {
     "data": {
      "text/plain": "<Figure size 1200x400 with 6 Axes>",
      "image/png": "[encoded data removed]"
     },
     "metadata": {},
     "output_type": "display_data"
    }
   ],
   "source": [
    "data = {'jp_younger' : {'prox': jp['proximal'].loc[jp['age_group'] == 1].sum(),\n",
    "                        'med': jp['medial'].loc[jp['age_group'] == 1].sum(),\n",
    "                        'dist': jp['distal'].loc[jp['age_group'] == 1].sum()},\n",
    "        'jp_older': {'prox': jp['proximal'].loc[jp['age_group'] == 2].sum(),\n",
    "                        'med': jp['medial'].loc[jp['age_group'] == 2].sum(),\n",
    "                        'dist': jp['distal'].loc[jp['age_group'] == 2].sum()},\n",
    "        'kr_younger': {'prox': kr['proximal'].loc[kr['age_group'] == 1].sum(),\n",
    "                        'med': kr['medial'].loc[kr['age_group'] == 1].sum(),\n",
    "                        'dist': kr['distal'].loc[kr['age_group'] == 1].sum()},\n",
    "        'kr_older': {'prox': kr['proximal'].loc[kr['age_group'] == 2].sum(),\n",
    "                        'med': kr['medial'].loc[kr['age_group'] == 2].sum(),\n",
    "                        'dist': kr['distal'].loc[kr['age_group'] == 2].sum()},\n",
    "        'sp_younger': {'prox': sp['proximal'].loc[sp['age_group'] == 1].sum(),\n",
    "                        'med': sp['medial'].loc[sp['age_group'] == 1].sum(),\n",
    "                        'dist': sp['distal'].loc[sp['age_group'] == 1].sum()},\n",
    "        'sp_older': {'prox': sp['proximal'].loc[sp['age_group'] == 2].sum(),\n",
    "                        'med': sp['medial'].loc[sp['age_group'] == 2].sum(),\n",
    "                        'dist': sp['distal'].loc[sp['age_group'] == 2].sum()}}\n",
    "\n",
    "names_jp_younger = list(data['jp_younger'].keys())\n",
    "names_jp_older = list(data['jp_older'].keys())\n",
    "names_kr_younger = list(data['kr_younger'].keys())\n",
    "names_kr_older = list(data['kr_older'].keys())\n",
    "names_sp_younger = list(data['sp_younger'].keys())\n",
    "names_sp_older = list(data['sp_older'].keys())\n",
    "\n",
    "values_jp_younger = list(data['jp_younger'].values())\n",
    "values_jp_older = list(data['jp_older'].values())\n",
    "values_kr_younger = list(data['kr_younger'].values())\n",
    "values_kr_older = list(data['kr_older'].values())\n",
    "values_sp_younger = list(data['sp_younger'].values())\n",
    "values_sp_older = list(data['sp_older'].values())\n",
    "\n",
    "plt.figure()\n",
    "fig1, axs = plt.subplots(2, 3, figsize=(12, 4))\n",
    "axs[0, 0].bar(names_jp_younger, values_jp_younger)\n",
    "axs[0, 0].set_title(\"JP, Younger\")\n",
    "\n",
    "axs[1, 0].bar(names_jp_older, values_jp_older)\n",
    "axs[1, 0].set_xlabel(\"JP, Older\")\n",
    "\n",
    "axs[0, 1].bar(names_kr_younger, values_kr_younger)\n",
    "axs[0, 1].set_title(\"KR, Younger\")\n",
    "axs[1, 1].bar(names_kr_older, values_kr_older)\n",
    "axs[1, 1].set_xlabel(\"KR, Older\")\n",
    "\n",
    "axs[0, 2].bar(names_sp_younger, values_sp_younger)\n",
    "axs[0, 2].set_title(\"SP, Younger\")\n",
    "axs[1, 2].bar(names_sp_older, values_sp_older)\n",
    "axs[1, 2].set_xlabel(\"SP, Older\")\n",
    "\n",
    "fig1.suptitle(\"Dem. use by language and age group\")\n",
    "plt.savefig(\"Dem_usage_lang_agegroup_tiktok.pdf\")\n",
    "plt.show()\n"
   ]
  },
  {
   "cell_type": "code",
   "execution_count": 8,
   "id": "67a1042c0309655e",
   "metadata": {
    "collapsed": false,
    "ExecuteTime": {
     "end_time": "2025-04-24T19:32:13.256799Z",
     "start_time": "2025-04-24T19:32:13.239381Z"
    }
   },
   "outputs": [],
   "source": [
    "df.to_csv(\"tiktok_out.csv\")"
   ]
  },
  {
   "cell_type": "markdown",
   "id": "b8c3768f296c5016",
   "metadata": {
    "collapsed": false
   },
   "source": [
    "# Data Summary \n",
    "Data was collected from the comment sections of Tiktok videos, with 6 videos per age category, per language (36 videos total). I modified a python script to create and append to a SQL database, tagging each video for the language and age bracket to be targeted. \n",
    "\n",
    "## Data Selection \n",
    "### Language \n",
    "I used a VPN to tunnel into servers in countries where the target languages were widely spoken. This caused the Tiktok recommendation algorithm to exclusively serve content in the target language, leaving only the age bracket to select for. \n",
    "\n",
    "### Age Bracket \n",
    "This aspect was more difficult to select for, as information on user age is rightly not accessible by the public. To account for this, I selected topics which either skewed towards younger or older audiences. Videos involving current trends (e.g. makeup, fashion, video games, dances) were selected for the younger bracket, where videos with a broader appeal (e.g. news, animals) were selected for the older bracket.  \n",
    "\n",
    "## Preliminary results\n",
    "In Japanese and Korean, the proximal is used the most across age brackets. In Korean, however, this may be complicated by the rudimentary selection of demonstratives (see bsky.ipynb for more information). Interestingly, the distal appears to be used more in Korean by younger commenters than by older commenters.\n",
    "\n",
    "In Spanish, the medial demonstrative appears to be favored both by younger and older commenters, where the distal is barely used at all. Because social media comments may be more likely to make use of anaphora (i.e. \"This video is my favorite!\"), this may point towards a highly exophoric use of the distal in Spanish, where the proximal and distal may take on a more exophoric use. However, from the literature on Spanish’s distal demonstrative, it is more likely that aquel/aquella is declining in all uses."
   ]
  },
  {
   "cell_type": "markdown",
   "id": "0fe3e378",
   "metadata": {},
   "source": []
  }
 ],
 "metadata": {
  "kernelspec": {
   "display_name": "Python 3",
   "language": "python",
   "name": "python3"
  },
  "language_info": {
   "codemirror_mode": {
    "name": "ipython",
    "version": 2
   },
   "file_extension": ".py",
   "mimetype": "text/x-python",
   "name": "python",
   "nbconvert_exporter": "python",
   "pygments_lexer": "ipython2",
   "version": "2.7.6"
  }
 },
 "nbformat": 4,
 "nbformat_minor": 5
}
